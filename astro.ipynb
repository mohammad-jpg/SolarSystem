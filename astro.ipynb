{
 "cells": [
  {
   "cell_type": "code",
   "execution_count": 1,
   "metadata": {},
   "outputs": [],
   "source": [
    "import astropy\n",
    "from astropy.time import Time\n",
    "from astropy.coordinates import solar_system_ephemeris, EarthLocation\n",
    "from astropy.coordinates import get_body_barycentric, get_body, get_moon\n",
    "from datetime import timedelta, datetime\n",
    "\n",
    "import pandas as pd\n",
    "\n",
    "from IPython.core.interactiveshell import InteractiveShell\n",
    "InteractiveShell.ast_node_interactivity = \"all\""
   ]
  },
  {
   "cell_type": "code",
   "execution_count": 2,
   "metadata": {
    "scrolled": true
   },
   "outputs": [
    {
     "data": {
      "text/html": [
       "<div>\n",
       "<style scoped>\n",
       "    .dataframe tbody tr th:only-of-type {\n",
       "        vertical-align: middle;\n",
       "    }\n",
       "\n",
       "    .dataframe tbody tr th {\n",
       "        vertical-align: top;\n",
       "    }\n",
       "\n",
       "    .dataframe thead th {\n",
       "        text-align: right;\n",
       "    }\n",
       "</style>\n",
       "<table border=\"1\" class=\"dataframe\">\n",
       "  <thead>\n",
       "    <tr style=\"text-align: right;\">\n",
       "      <th></th>\n",
       "      <th>x</th>\n",
       "      <th>y</th>\n",
       "      <th>z</th>\n",
       "    </tr>\n",
       "    <tr>\n",
       "      <th>Timestamp</th>\n",
       "      <th></th>\n",
       "      <th></th>\n",
       "      <th></th>\n",
       "    </tr>\n",
       "  </thead>\n",
       "  <tbody>\n",
       "    <tr>\n",
       "      <th>2017-02-13 23:00:00.000</th>\n",
       "      <td>-0.197387</td>\n",
       "      <td>-0.910610</td>\n",
       "      <td>-0.394932</td>\n",
       "    </tr>\n",
       "    <tr>\n",
       "      <th>2017-02-13 23:00:00.000</th>\n",
       "      <td>-0.193238</td>\n",
       "      <td>-0.911396</td>\n",
       "      <td>-0.395273</td>\n",
       "    </tr>\n",
       "    <tr>\n",
       "      <th>2017-02-13 23:00:00.000</th>\n",
       "      <td>-0.189086</td>\n",
       "      <td>-0.912166</td>\n",
       "      <td>-0.395607</td>\n",
       "    </tr>\n",
       "    <tr>\n",
       "      <th>2017-02-13 23:00:00.000</th>\n",
       "      <td>-0.184930</td>\n",
       "      <td>-0.912919</td>\n",
       "      <td>-0.395934</td>\n",
       "    </tr>\n",
       "    <tr>\n",
       "      <th>2017-02-13 23:00:00.000</th>\n",
       "      <td>-0.180772</td>\n",
       "      <td>-0.913656</td>\n",
       "      <td>-0.396254</td>\n",
       "    </tr>\n",
       "  </tbody>\n",
       "</table>\n",
       "</div>"
      ],
      "text/plain": [
       "                                x         y         z\n",
       "Timestamp                                            \n",
       "2017-02-13 23:00:00.000 -0.197387 -0.910610 -0.394932\n",
       "2017-02-13 23:00:00.000 -0.193238 -0.911396 -0.395273\n",
       "2017-02-13 23:00:00.000 -0.189086 -0.912166 -0.395607\n",
       "2017-02-13 23:00:00.000 -0.184930 -0.912919 -0.395934\n",
       "2017-02-13 23:00:00.000 -0.180772 -0.913656 -0.396254"
      ]
     },
     "execution_count": 2,
     "metadata": {},
     "output_type": "execute_result"
    }
   ],
   "source": [
    "start_date = datetime(2016, 6, 9, 5, 0, 0)\n",
    "dict_coordinates = {}\n",
    "dict_coordinates['Timestamp'] = []\n",
    "dict_coordinates['x'] = []\n",
    "dict_coordinates['y'] = []\n",
    "dict_coordinates['z'] = []\n",
    "number_positions = 1000\n",
    "timestep_hours = 6\n",
    "body = 'earth'\n",
    "for td in (start_date + timedelta(hours=timestep_hours*it)\n",
    "       for it in range(number_positions)):\n",
    "            t = Time(td.strftime(\"%Y-%m-%d %H:%M\"))\n",
    "            dict_coordinates['Timestamp'] = t\n",
    "            dict_coordinates['x'].append(float(str(astropy.coordinates.get_body_barycentric(body,t).x).split()[0]))\n",
    "            dict_coordinates['y'].append(float(str(astropy.coordinates.get_body_barycentric(body,t).y).split()[0]))\n",
    "            dict_coordinates['z'].append(float(str(astropy.coordinates.get_body_barycentric(body,t).z).split()[0]))\n",
    "            \n",
    "coordinates = pd.DataFrame(dict_coordinates)\n",
    "coordinates = coordinates.set_index('Timestamp')\n",
    "coordinates.head() # Display top of dataframe to verify correct"
   ]
  },
  {
   "cell_type": "code",
   "execution_count": 3,
   "metadata": {},
   "outputs": [],
   "source": [
    "coordinates.to_csv('Astropy_positions_' + body + '.csv')"
   ]
  },
  {
   "cell_type": "code",
   "execution_count": null,
   "metadata": {},
   "outputs": [],
   "source": []
  }
 ],
 "metadata": {
  "kernelspec": {
   "display_name": "Python 3",
   "language": "python",
   "name": "python3"
  },
  "language_info": {
   "codemirror_mode": {
    "name": "ipython",
    "version": 3
   },
   "file_extension": ".py",
   "mimetype": "text/x-python",
   "name": "python",
   "nbconvert_exporter": "python",
   "pygments_lexer": "ipython3",
   "version": "3.8.3"
  }
 },
 "nbformat": 4,
 "nbformat_minor": 4
}
